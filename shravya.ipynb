{
  "nbformat": 4,
  "nbformat_minor": 0,
  "metadata": {
    "colab": {
      "provenance": []
    },
    "kernelspec": {
      "name": "python3",
      "display_name": "Python 3"
    },
    "language_info": {
      "name": "python"
    },
    "widgets": {
      "application/vnd.jupyter.widget-state+json": {
        "d1e2514f827e4fe099a02c1fdb7225cb": {
          "model_module": "@jupyter-widgets/controls",
          "model_name": "HBoxModel",
          "model_module_version": "1.5.0",
          "state": {
            "_dom_classes": [],
            "_model_module": "@jupyter-widgets/controls",
            "_model_module_version": "1.5.0",
            "_model_name": "HBoxModel",
            "_view_count": null,
            "_view_module": "@jupyter-widgets/controls",
            "_view_module_version": "1.5.0",
            "_view_name": "HBoxView",
            "box_style": "",
            "children": [
              "IPY_MODEL_fb8ece683ec94abba3b738332415e19f",
              "IPY_MODEL_e0332ae42cec40eeb6694a2d0fe418d1",
              "IPY_MODEL_3059c2fa1c0f45b1b520d4a1150530cd"
            ],
            "layout": "IPY_MODEL_450bb9df7db145b4a58def373a1b94b0"
          }
        },
        "fb8ece683ec94abba3b738332415e19f": {
          "model_module": "@jupyter-widgets/controls",
          "model_name": "HTMLModel",
          "model_module_version": "1.5.0",
          "state": {
            "_dom_classes": [],
            "_model_module": "@jupyter-widgets/controls",
            "_model_module_version": "1.5.0",
            "_model_name": "HTMLModel",
            "_view_count": null,
            "_view_module": "@jupyter-widgets/controls",
            "_view_module_version": "1.5.0",
            "_view_name": "HTMLView",
            "description": "",
            "description_tooltip": null,
            "layout": "IPY_MODEL_12fe5859c053453f92b81a2b767811a9",
            "placeholder": "​",
            "style": "IPY_MODEL_559608bdec314ff4865267edf9a99f84",
            "value": "tokenizer_config.json: 100%"
          }
        },
        "e0332ae42cec40eeb6694a2d0fe418d1": {
          "model_module": "@jupyter-widgets/controls",
          "model_name": "FloatProgressModel",
          "model_module_version": "1.5.0",
          "state": {
            "_dom_classes": [],
            "_model_module": "@jupyter-widgets/controls",
            "_model_module_version": "1.5.0",
            "_model_name": "FloatProgressModel",
            "_view_count": null,
            "_view_module": "@jupyter-widgets/controls",
            "_view_module_version": "1.5.0",
            "_view_name": "ProgressView",
            "bar_style": "success",
            "description": "",
            "description_tooltip": null,
            "layout": "IPY_MODEL_dbd0b25f89d840d59404888a83d982b8",
            "max": 59,
            "min": 0,
            "orientation": "horizontal",
            "style": "IPY_MODEL_760ff84e8b734591ac514cac22abe1e0",
            "value": 59
          }
        },
        "3059c2fa1c0f45b1b520d4a1150530cd": {
          "model_module": "@jupyter-widgets/controls",
          "model_name": "HTMLModel",
          "model_module_version": "1.5.0",
          "state": {
            "_dom_classes": [],
            "_model_module": "@jupyter-widgets/controls",
            "_model_module_version": "1.5.0",
            "_model_name": "HTMLModel",
            "_view_count": null,
            "_view_module": "@jupyter-widgets/controls",
            "_view_module_version": "1.5.0",
            "_view_name": "HTMLView",
            "description": "",
            "description_tooltip": null,
            "layout": "IPY_MODEL_930c4c7612124721ac14d40f5aa8dfad",
            "placeholder": "​",
            "style": "IPY_MODEL_198b9b1da24f4b338b2e0a60f5fd3823",
            "value": " 59.0/59.0 [00:00&lt;00:00, 4.50kB/s]"
          }
        },
        "450bb9df7db145b4a58def373a1b94b0": {
          "model_module": "@jupyter-widgets/base",
          "model_name": "LayoutModel",
          "model_module_version": "1.2.0",
          "state": {
            "_model_module": "@jupyter-widgets/base",
            "_model_module_version": "1.2.0",
            "_model_name": "LayoutModel",
            "_view_count": null,
            "_view_module": "@jupyter-widgets/base",
            "_view_module_version": "1.2.0",
            "_view_name": "LayoutView",
            "align_content": null,
            "align_items": null,
            "align_self": null,
            "border": null,
            "bottom": null,
            "display": null,
            "flex": null,
            "flex_flow": null,
            "grid_area": null,
            "grid_auto_columns": null,
            "grid_auto_flow": null,
            "grid_auto_rows": null,
            "grid_column": null,
            "grid_gap": null,
            "grid_row": null,
            "grid_template_areas": null,
            "grid_template_columns": null,
            "grid_template_rows": null,
            "height": null,
            "justify_content": null,
            "justify_items": null,
            "left": null,
            "margin": null,
            "max_height": null,
            "max_width": null,
            "min_height": null,
            "min_width": null,
            "object_fit": null,
            "object_position": null,
            "order": null,
            "overflow": null,
            "overflow_x": null,
            "overflow_y": null,
            "padding": null,
            "right": null,
            "top": null,
            "visibility": null,
            "width": null
          }
        },
        "12fe5859c053453f92b81a2b767811a9": {
          "model_module": "@jupyter-widgets/base",
          "model_name": "LayoutModel",
          "model_module_version": "1.2.0",
          "state": {
            "_model_module": "@jupyter-widgets/base",
            "_model_module_version": "1.2.0",
            "_model_name": "LayoutModel",
            "_view_count": null,
            "_view_module": "@jupyter-widgets/base",
            "_view_module_version": "1.2.0",
            "_view_name": "LayoutView",
            "align_content": null,
            "align_items": null,
            "align_self": null,
            "border": null,
            "bottom": null,
            "display": null,
            "flex": null,
            "flex_flow": null,
            "grid_area": null,
            "grid_auto_columns": null,
            "grid_auto_flow": null,
            "grid_auto_rows": null,
            "grid_column": null,
            "grid_gap": null,
            "grid_row": null,
            "grid_template_areas": null,
            "grid_template_columns": null,
            "grid_template_rows": null,
            "height": null,
            "justify_content": null,
            "justify_items": null,
            "left": null,
            "margin": null,
            "max_height": null,
            "max_width": null,
            "min_height": null,
            "min_width": null,
            "object_fit": null,
            "object_position": null,
            "order": null,
            "overflow": null,
            "overflow_x": null,
            "overflow_y": null,
            "padding": null,
            "right": null,
            "top": null,
            "visibility": null,
            "width": null
          }
        },
        "559608bdec314ff4865267edf9a99f84": {
          "model_module": "@jupyter-widgets/controls",
          "model_name": "DescriptionStyleModel",
          "model_module_version": "1.5.0",
          "state": {
            "_model_module": "@jupyter-widgets/controls",
            "_model_module_version": "1.5.0",
            "_model_name": "DescriptionStyleModel",
            "_view_count": null,
            "_view_module": "@jupyter-widgets/base",
            "_view_module_version": "1.2.0",
            "_view_name": "StyleView",
            "description_width": ""
          }
        },
        "dbd0b25f89d840d59404888a83d982b8": {
          "model_module": "@jupyter-widgets/base",
          "model_name": "LayoutModel",
          "model_module_version": "1.2.0",
          "state": {
            "_model_module": "@jupyter-widgets/base",
            "_model_module_version": "1.2.0",
            "_model_name": "LayoutModel",
            "_view_count": null,
            "_view_module": "@jupyter-widgets/base",
            "_view_module_version": "1.2.0",
            "_view_name": "LayoutView",
            "align_content": null,
            "align_items": null,
            "align_self": null,
            "border": null,
            "bottom": null,
            "display": null,
            "flex": null,
            "flex_flow": null,
            "grid_area": null,
            "grid_auto_columns": null,
            "grid_auto_flow": null,
            "grid_auto_rows": null,
            "grid_column": null,
            "grid_gap": null,
            "grid_row": null,
            "grid_template_areas": null,
            "grid_template_columns": null,
            "grid_template_rows": null,
            "height": null,
            "justify_content": null,
            "justify_items": null,
            "left": null,
            "margin": null,
            "max_height": null,
            "max_width": null,
            "min_height": null,
            "min_width": null,
            "object_fit": null,
            "object_position": null,
            "order": null,
            "overflow": null,
            "overflow_x": null,
            "overflow_y": null,
            "padding": null,
            "right": null,
            "top": null,
            "visibility": null,
            "width": null
          }
        },
        "760ff84e8b734591ac514cac22abe1e0": {
          "model_module": "@jupyter-widgets/controls",
          "model_name": "ProgressStyleModel",
          "model_module_version": "1.5.0",
          "state": {
            "_model_module": "@jupyter-widgets/controls",
            "_model_module_version": "1.5.0",
            "_model_name": "ProgressStyleModel",
            "_view_count": null,
            "_view_module": "@jupyter-widgets/base",
            "_view_module_version": "1.2.0",
            "_view_name": "StyleView",
            "bar_color": null,
            "description_width": ""
          }
        },
        "930c4c7612124721ac14d40f5aa8dfad": {
          "model_module": "@jupyter-widgets/base",
          "model_name": "LayoutModel",
          "model_module_version": "1.2.0",
          "state": {
            "_model_module": "@jupyter-widgets/base",
            "_model_module_version": "1.2.0",
            "_model_name": "LayoutModel",
            "_view_count": null,
            "_view_module": "@jupyter-widgets/base",
            "_view_module_version": "1.2.0",
            "_view_name": "LayoutView",
            "align_content": null,
            "align_items": null,
            "align_self": null,
            "border": null,
            "bottom": null,
            "display": null,
            "flex": null,
            "flex_flow": null,
            "grid_area": null,
            "grid_auto_columns": null,
            "grid_auto_flow": null,
            "grid_auto_rows": null,
            "grid_column": null,
            "grid_gap": null,
            "grid_row": null,
            "grid_template_areas": null,
            "grid_template_columns": null,
            "grid_template_rows": null,
            "height": null,
            "justify_content": null,
            "justify_items": null,
            "left": null,
            "margin": null,
            "max_height": null,
            "max_width": null,
            "min_height": null,
            "min_width": null,
            "object_fit": null,
            "object_position": null,
            "order": null,
            "overflow": null,
            "overflow_x": null,
            "overflow_y": null,
            "padding": null,
            "right": null,
            "top": null,
            "visibility": null,
            "width": null
          }
        },
        "198b9b1da24f4b338b2e0a60f5fd3823": {
          "model_module": "@jupyter-widgets/controls",
          "model_name": "DescriptionStyleModel",
          "model_module_version": "1.5.0",
          "state": {
            "_model_module": "@jupyter-widgets/controls",
            "_model_module_version": "1.5.0",
            "_model_name": "DescriptionStyleModel",
            "_view_count": null,
            "_view_module": "@jupyter-widgets/base",
            "_view_module_version": "1.2.0",
            "_view_name": "StyleView",
            "description_width": ""
          }
        },
        "b5ac7600803940adb568c180a134517a": {
          "model_module": "@jupyter-widgets/controls",
          "model_name": "HBoxModel",
          "model_module_version": "1.5.0",
          "state": {
            "_dom_classes": [],
            "_model_module": "@jupyter-widgets/controls",
            "_model_module_version": "1.5.0",
            "_model_name": "HBoxModel",
            "_view_count": null,
            "_view_module": "@jupyter-widgets/controls",
            "_view_module_version": "1.5.0",
            "_view_name": "HBoxView",
            "box_style": "",
            "children": [
              "IPY_MODEL_959d4404327141aeba955b17ffc50206",
              "IPY_MODEL_7e7d97a6213b408d899fc63f1fc7e1b3",
              "IPY_MODEL_02176a708e1242f89228411390028142"
            ],
            "layout": "IPY_MODEL_393de50848c340f691546f982f613beb"
          }
        },
        "959d4404327141aeba955b17ffc50206": {
          "model_module": "@jupyter-widgets/controls",
          "model_name": "HTMLModel",
          "model_module_version": "1.5.0",
          "state": {
            "_dom_classes": [],
            "_model_module": "@jupyter-widgets/controls",
            "_model_module_version": "1.5.0",
            "_model_name": "HTMLModel",
            "_view_count": null,
            "_view_module": "@jupyter-widgets/controls",
            "_view_module_version": "1.5.0",
            "_view_name": "HTMLView",
            "description": "",
            "description_tooltip": null,
            "layout": "IPY_MODEL_8982bebaa63a4fb2aeab110a4889fabc",
            "placeholder": "​",
            "style": "IPY_MODEL_3dc3fa33acbb483ca037c1c97fd02db9",
            "value": "vocab.txt: "
          }
        },
        "7e7d97a6213b408d899fc63f1fc7e1b3": {
          "model_module": "@jupyter-widgets/controls",
          "model_name": "FloatProgressModel",
          "model_module_version": "1.5.0",
          "state": {
            "_dom_classes": [],
            "_model_module": "@jupyter-widgets/controls",
            "_model_module_version": "1.5.0",
            "_model_name": "FloatProgressModel",
            "_view_count": null,
            "_view_module": "@jupyter-widgets/controls",
            "_view_module_version": "1.5.0",
            "_view_name": "ProgressView",
            "bar_style": "success",
            "description": "",
            "description_tooltip": null,
            "layout": "IPY_MODEL_95e9d3314edd47f3b5b4e74970251654",
            "max": 1,
            "min": 0,
            "orientation": "horizontal",
            "style": "IPY_MODEL_0320583b21b54e8e959ca002bfda2788",
            "value": 1
          }
        },
        "02176a708e1242f89228411390028142": {
          "model_module": "@jupyter-widgets/controls",
          "model_name": "HTMLModel",
          "model_module_version": "1.5.0",
          "state": {
            "_dom_classes": [],
            "_model_module": "@jupyter-widgets/controls",
            "_model_module_version": "1.5.0",
            "_model_name": "HTMLModel",
            "_view_count": null,
            "_view_module": "@jupyter-widgets/controls",
            "_view_module_version": "1.5.0",
            "_view_name": "HTMLView",
            "description": "",
            "description_tooltip": null,
            "layout": "IPY_MODEL_3aaf87568f3d464cb1b680d9a8133a8e",
            "placeholder": "​",
            "style": "IPY_MODEL_63e963b5a51146008889aa64ef4d3472",
            "value": " 213k/? [00:00&lt;00:00, 6.14MB/s]"
          }
        },
        "393de50848c340f691546f982f613beb": {
          "model_module": "@jupyter-widgets/base",
          "model_name": "LayoutModel",
          "model_module_version": "1.2.0",
          "state": {
            "_model_module": "@jupyter-widgets/base",
            "_model_module_version": "1.2.0",
            "_model_name": "LayoutModel",
            "_view_count": null,
            "_view_module": "@jupyter-widgets/base",
            "_view_module_version": "1.2.0",
            "_view_name": "LayoutView",
            "align_content": null,
            "align_items": null,
            "align_self": null,
            "border": null,
            "bottom": null,
            "display": null,
            "flex": null,
            "flex_flow": null,
            "grid_area": null,
            "grid_auto_columns": null,
            "grid_auto_flow": null,
            "grid_auto_rows": null,
            "grid_column": null,
            "grid_gap": null,
            "grid_row": null,
            "grid_template_areas": null,
            "grid_template_columns": null,
            "grid_template_rows": null,
            "height": null,
            "justify_content": null,
            "justify_items": null,
            "left": null,
            "margin": null,
            "max_height": null,
            "max_width": null,
            "min_height": null,
            "min_width": null,
            "object_fit": null,
            "object_position": null,
            "order": null,
            "overflow": null,
            "overflow_x": null,
            "overflow_y": null,
            "padding": null,
            "right": null,
            "top": null,
            "visibility": null,
            "width": null
          }
        },
        "8982bebaa63a4fb2aeab110a4889fabc": {
          "model_module": "@jupyter-widgets/base",
          "model_name": "LayoutModel",
          "model_module_version": "1.2.0",
          "state": {
            "_model_module": "@jupyter-widgets/base",
            "_model_module_version": "1.2.0",
            "_model_name": "LayoutModel",
            "_view_count": null,
            "_view_module": "@jupyter-widgets/base",
            "_view_module_version": "1.2.0",
            "_view_name": "LayoutView",
            "align_content": null,
            "align_items": null,
            "align_self": null,
            "border": null,
            "bottom": null,
            "display": null,
            "flex": null,
            "flex_flow": null,
            "grid_area": null,
            "grid_auto_columns": null,
            "grid_auto_flow": null,
            "grid_auto_rows": null,
            "grid_column": null,
            "grid_gap": null,
            "grid_row": null,
            "grid_template_areas": null,
            "grid_template_columns": null,
            "grid_template_rows": null,
            "height": null,
            "justify_content": null,
            "justify_items": null,
            "left": null,
            "margin": null,
            "max_height": null,
            "max_width": null,
            "min_height": null,
            "min_width": null,
            "object_fit": null,
            "object_position": null,
            "order": null,
            "overflow": null,
            "overflow_x": null,
            "overflow_y": null,
            "padding": null,
            "right": null,
            "top": null,
            "visibility": null,
            "width": null
          }
        },
        "3dc3fa33acbb483ca037c1c97fd02db9": {
          "model_module": "@jupyter-widgets/controls",
          "model_name": "DescriptionStyleModel",
          "model_module_version": "1.5.0",
          "state": {
            "_model_module": "@jupyter-widgets/controls",
            "_model_module_version": "1.5.0",
            "_model_name": "DescriptionStyleModel",
            "_view_count": null,
            "_view_module": "@jupyter-widgets/base",
            "_view_module_version": "1.2.0",
            "_view_name": "StyleView",
            "description_width": ""
          }
        },
        "95e9d3314edd47f3b5b4e74970251654": {
          "model_module": "@jupyter-widgets/base",
          "model_name": "LayoutModel",
          "model_module_version": "1.2.0",
          "state": {
            "_model_module": "@jupyter-widgets/base",
            "_model_module_version": "1.2.0",
            "_model_name": "LayoutModel",
            "_view_count": null,
            "_view_module": "@jupyter-widgets/base",
            "_view_module_version": "1.2.0",
            "_view_name": "LayoutView",
            "align_content": null,
            "align_items": null,
            "align_self": null,
            "border": null,
            "bottom": null,
            "display": null,
            "flex": null,
            "flex_flow": null,
            "grid_area": null,
            "grid_auto_columns": null,
            "grid_auto_flow": null,
            "grid_auto_rows": null,
            "grid_column": null,
            "grid_gap": null,
            "grid_row": null,
            "grid_template_areas": null,
            "grid_template_columns": null,
            "grid_template_rows": null,
            "height": null,
            "justify_content": null,
            "justify_items": null,
            "left": null,
            "margin": null,
            "max_height": null,
            "max_width": null,
            "min_height": null,
            "min_width": null,
            "object_fit": null,
            "object_position": null,
            "order": null,
            "overflow": null,
            "overflow_x": null,
            "overflow_y": null,
            "padding": null,
            "right": null,
            "top": null,
            "visibility": null,
            "width": "20px"
          }
        },
        "0320583b21b54e8e959ca002bfda2788": {
          "model_module": "@jupyter-widgets/controls",
          "model_name": "ProgressStyleModel",
          "model_module_version": "1.5.0",
          "state": {
            "_model_module": "@jupyter-widgets/controls",
            "_model_module_version": "1.5.0",
            "_model_name": "ProgressStyleModel",
            "_view_count": null,
            "_view_module": "@jupyter-widgets/base",
            "_view_module_version": "1.2.0",
            "_view_name": "StyleView",
            "bar_color": null,
            "description_width": ""
          }
        },
        "3aaf87568f3d464cb1b680d9a8133a8e": {
          "model_module": "@jupyter-widgets/base",
          "model_name": "LayoutModel",
          "model_module_version": "1.2.0",
          "state": {
            "_model_module": "@jupyter-widgets/base",
            "_model_module_version": "1.2.0",
            "_model_name": "LayoutModel",
            "_view_count": null,
            "_view_module": "@jupyter-widgets/base",
            "_view_module_version": "1.2.0",
            "_view_name": "LayoutView",
            "align_content": null,
            "align_items": null,
            "align_self": null,
            "border": null,
            "bottom": null,
            "display": null,
            "flex": null,
            "flex_flow": null,
            "grid_area": null,
            "grid_auto_columns": null,
            "grid_auto_flow": null,
            "grid_auto_rows": null,
            "grid_column": null,
            "grid_gap": null,
            "grid_row": null,
            "grid_template_areas": null,
            "grid_template_columns": null,
            "grid_template_rows": null,
            "height": null,
            "justify_content": null,
            "justify_items": null,
            "left": null,
            "margin": null,
            "max_height": null,
            "max_width": null,
            "min_height": null,
            "min_width": null,
            "object_fit": null,
            "object_position": null,
            "order": null,
            "overflow": null,
            "overflow_x": null,
            "overflow_y": null,
            "padding": null,
            "right": null,
            "top": null,
            "visibility": null,
            "width": null
          }
        },
        "63e963b5a51146008889aa64ef4d3472": {
          "model_module": "@jupyter-widgets/controls",
          "model_name": "DescriptionStyleModel",
          "model_module_version": "1.5.0",
          "state": {
            "_model_module": "@jupyter-widgets/controls",
            "_model_module_version": "1.5.0",
            "_model_name": "DescriptionStyleModel",
            "_view_count": null,
            "_view_module": "@jupyter-widgets/base",
            "_view_module_version": "1.2.0",
            "_view_name": "StyleView",
            "description_width": ""
          }
        },
        "f447e037e7104bbeb23b3ae3ad47a074": {
          "model_module": "@jupyter-widgets/controls",
          "model_name": "HBoxModel",
          "model_module_version": "1.5.0",
          "state": {
            "_dom_classes": [],
            "_model_module": "@jupyter-widgets/controls",
            "_model_module_version": "1.5.0",
            "_model_name": "HBoxModel",
            "_view_count": null,
            "_view_module": "@jupyter-widgets/controls",
            "_view_module_version": "1.5.0",
            "_view_name": "HBoxView",
            "box_style": "",
            "children": [
              "IPY_MODEL_07c0df2f26554e70ba2728d737e90bb3",
              "IPY_MODEL_a9579b94cf7346bf8279fe4d55a90e9a",
              "IPY_MODEL_09d8967e019d4d66a43da81c0c0e6d57"
            ],
            "layout": "IPY_MODEL_5073614ad2d4424782206ed7a9d35a15"
          }
        },
        "07c0df2f26554e70ba2728d737e90bb3": {
          "model_module": "@jupyter-widgets/controls",
          "model_name": "HTMLModel",
          "model_module_version": "1.5.0",
          "state": {
            "_dom_classes": [],
            "_model_module": "@jupyter-widgets/controls",
            "_model_module_version": "1.5.0",
            "_model_name": "HTMLModel",
            "_view_count": null,
            "_view_module": "@jupyter-widgets/controls",
            "_view_module_version": "1.5.0",
            "_view_name": "HTMLView",
            "description": "",
            "description_tooltip": null,
            "layout": "IPY_MODEL_78b0ed5ba02b42bfa112a0ea98e054a5",
            "placeholder": "​",
            "style": "IPY_MODEL_e41172223f7b45f5943f8dd850391440",
            "value": "added_tokens.json: 100%"
          }
        },
        "a9579b94cf7346bf8279fe4d55a90e9a": {
          "model_module": "@jupyter-widgets/controls",
          "model_name": "FloatProgressModel",
          "model_module_version": "1.5.0",
          "state": {
            "_dom_classes": [],
            "_model_module": "@jupyter-widgets/controls",
            "_model_module_version": "1.5.0",
            "_model_name": "FloatProgressModel",
            "_view_count": null,
            "_view_module": "@jupyter-widgets/controls",
            "_view_module_version": "1.5.0",
            "_view_name": "ProgressView",
            "bar_style": "success",
            "description": "",
            "description_tooltip": null,
            "layout": "IPY_MODEL_78c79808fc0a461eb63a16f5d4222293",
            "max": 2,
            "min": 0,
            "orientation": "horizontal",
            "style": "IPY_MODEL_5eab422563dc45c3bb2ab784decd4a6c",
            "value": 2
          }
        },
        "09d8967e019d4d66a43da81c0c0e6d57": {
          "model_module": "@jupyter-widgets/controls",
          "model_name": "HTMLModel",
          "model_module_version": "1.5.0",
          "state": {
            "_dom_classes": [],
            "_model_module": "@jupyter-widgets/controls",
            "_model_module_version": "1.5.0",
            "_model_name": "HTMLModel",
            "_view_count": null,
            "_view_module": "@jupyter-widgets/controls",
            "_view_module_version": "1.5.0",
            "_view_name": "HTMLView",
            "description": "",
            "description_tooltip": null,
            "layout": "IPY_MODEL_157c679838e2494aaa7423b3b31a0b9a",
            "placeholder": "​",
            "style": "IPY_MODEL_e05e12dea4994189bb888083e60ba532",
            "value": " 2.00/2.00 [00:00&lt;00:00, 143B/s]"
          }
        },
        "5073614ad2d4424782206ed7a9d35a15": {
          "model_module": "@jupyter-widgets/base",
          "model_name": "LayoutModel",
          "model_module_version": "1.2.0",
          "state": {
            "_model_module": "@jupyter-widgets/base",
            "_model_module_version": "1.2.0",
            "_model_name": "LayoutModel",
            "_view_count": null,
            "_view_module": "@jupyter-widgets/base",
            "_view_module_version": "1.2.0",
            "_view_name": "LayoutView",
            "align_content": null,
            "align_items": null,
            "align_self": null,
            "border": null,
            "bottom": null,
            "display": null,
            "flex": null,
            "flex_flow": null,
            "grid_area": null,
            "grid_auto_columns": null,
            "grid_auto_flow": null,
            "grid_auto_rows": null,
            "grid_column": null,
            "grid_gap": null,
            "grid_row": null,
            "grid_template_areas": null,
            "grid_template_columns": null,
            "grid_template_rows": null,
            "height": null,
            "justify_content": null,
            "justify_items": null,
            "left": null,
            "margin": null,
            "max_height": null,
            "max_width": null,
            "min_height": null,
            "min_width": null,
            "object_fit": null,
            "object_position": null,
            "order": null,
            "overflow": null,
            "overflow_x": null,
            "overflow_y": null,
            "padding": null,
            "right": null,
            "top": null,
            "visibility": null,
            "width": null
          }
        },
        "78b0ed5ba02b42bfa112a0ea98e054a5": {
          "model_module": "@jupyter-widgets/base",
          "model_name": "LayoutModel",
          "model_module_version": "1.2.0",
          "state": {
            "_model_module": "@jupyter-widgets/base",
            "_model_module_version": "1.2.0",
            "_model_name": "LayoutModel",
            "_view_count": null,
            "_view_module": "@jupyter-widgets/base",
            "_view_module_version": "1.2.0",
            "_view_name": "LayoutView",
            "align_content": null,
            "align_items": null,
            "align_self": null,
            "border": null,
            "bottom": null,
            "display": null,
            "flex": null,
            "flex_flow": null,
            "grid_area": null,
            "grid_auto_columns": null,
            "grid_auto_flow": null,
            "grid_auto_rows": null,
            "grid_column": null,
            "grid_gap": null,
            "grid_row": null,
            "grid_template_areas": null,
            "grid_template_columns": null,
            "grid_template_rows": null,
            "height": null,
            "justify_content": null,
            "justify_items": null,
            "left": null,
            "margin": null,
            "max_height": null,
            "max_width": null,
            "min_height": null,
            "min_width": null,
            "object_fit": null,
            "object_position": null,
            "order": null,
            "overflow": null,
            "overflow_x": null,
            "overflow_y": null,
            "padding": null,
            "right": null,
            "top": null,
            "visibility": null,
            "width": null
          }
        },
        "e41172223f7b45f5943f8dd850391440": {
          "model_module": "@jupyter-widgets/controls",
          "model_name": "DescriptionStyleModel",
          "model_module_version": "1.5.0",
          "state": {
            "_model_module": "@jupyter-widgets/controls",
            "_model_module_version": "1.5.0",
            "_model_name": "DescriptionStyleModel",
            "_view_count": null,
            "_view_module": "@jupyter-widgets/base",
            "_view_module_version": "1.2.0",
            "_view_name": "StyleView",
            "description_width": ""
          }
        },
        "78c79808fc0a461eb63a16f5d4222293": {
          "model_module": "@jupyter-widgets/base",
          "model_name": "LayoutModel",
          "model_module_version": "1.2.0",
          "state": {
            "_model_module": "@jupyter-widgets/base",
            "_model_module_version": "1.2.0",
            "_model_name": "LayoutModel",
            "_view_count": null,
            "_view_module": "@jupyter-widgets/base",
            "_view_module_version": "1.2.0",
            "_view_name": "LayoutView",
            "align_content": null,
            "align_items": null,
            "align_self": null,
            "border": null,
            "bottom": null,
            "display": null,
            "flex": null,
            "flex_flow": null,
            "grid_area": null,
            "grid_auto_columns": null,
            "grid_auto_flow": null,
            "grid_auto_rows": null,
            "grid_column": null,
            "grid_gap": null,
            "grid_row": null,
            "grid_template_areas": null,
            "grid_template_columns": null,
            "grid_template_rows": null,
            "height": null,
            "justify_content": null,
            "justify_items": null,
            "left": null,
            "margin": null,
            "max_height": null,
            "max_width": null,
            "min_height": null,
            "min_width": null,
            "object_fit": null,
            "object_position": null,
            "order": null,
            "overflow": null,
            "overflow_x": null,
            "overflow_y": null,
            "padding": null,
            "right": null,
            "top": null,
            "visibility": null,
            "width": null
          }
        },
        "5eab422563dc45c3bb2ab784decd4a6c": {
          "model_module": "@jupyter-widgets/controls",
          "model_name": "ProgressStyleModel",
          "model_module_version": "1.5.0",
          "state": {
            "_model_module": "@jupyter-widgets/controls",
            "_model_module_version": "1.5.0",
            "_model_name": "ProgressStyleModel",
            "_view_count": null,
            "_view_module": "@jupyter-widgets/base",
            "_view_module_version": "1.2.0",
            "_view_name": "StyleView",
            "bar_color": null,
            "description_width": ""
          }
        },
        "157c679838e2494aaa7423b3b31a0b9a": {
          "model_module": "@jupyter-widgets/base",
          "model_name": "LayoutModel",
          "model_module_version": "1.2.0",
          "state": {
            "_model_module": "@jupyter-widgets/base",
            "_model_module_version": "1.2.0",
            "_model_name": "LayoutModel",
            "_view_count": null,
            "_view_module": "@jupyter-widgets/base",
            "_view_module_version": "1.2.0",
            "_view_name": "LayoutView",
            "align_content": null,
            "align_items": null,
            "align_self": null,
            "border": null,
            "bottom": null,
            "display": null,
            "flex": null,
            "flex_flow": null,
            "grid_area": null,
            "grid_auto_columns": null,
            "grid_auto_flow": null,
            "grid_auto_rows": null,
            "grid_column": null,
            "grid_gap": null,
            "grid_row": null,
            "grid_template_areas": null,
            "grid_template_columns": null,
            "grid_template_rows": null,
            "height": null,
            "justify_content": null,
            "justify_items": null,
            "left": null,
            "margin": null,
            "max_height": null,
            "max_width": null,
            "min_height": null,
            "min_width": null,
            "object_fit": null,
            "object_position": null,
            "order": null,
            "overflow": null,
            "overflow_x": null,
            "overflow_y": null,
            "padding": null,
            "right": null,
            "top": null,
            "visibility": null,
            "width": null
          }
        },
        "e05e12dea4994189bb888083e60ba532": {
          "model_module": "@jupyter-widgets/controls",
          "model_name": "DescriptionStyleModel",
          "model_module_version": "1.5.0",
          "state": {
            "_model_module": "@jupyter-widgets/controls",
            "_model_module_version": "1.5.0",
            "_model_name": "DescriptionStyleModel",
            "_view_count": null,
            "_view_module": "@jupyter-widgets/base",
            "_view_module_version": "1.2.0",
            "_view_name": "StyleView",
            "description_width": ""
          }
        },
        "d285f77fbba14152a90a525a0f46f34c": {
          "model_module": "@jupyter-widgets/controls",
          "model_name": "HBoxModel",
          "model_module_version": "1.5.0",
          "state": {
            "_dom_classes": [],
            "_model_module": "@jupyter-widgets/controls",
            "_model_module_version": "1.5.0",
            "_model_name": "HBoxModel",
            "_view_count": null,
            "_view_module": "@jupyter-widgets/controls",
            "_view_module_version": "1.5.0",
            "_view_name": "HBoxView",
            "box_style": "",
            "children": [
              "IPY_MODEL_7dcb67e6b7d94284a075675a9770dc67",
              "IPY_MODEL_6615a381814d43fb8e91d72f010d68fc",
              "IPY_MODEL_bf3bbc33836f4130812d1db6bc2c544a"
            ],
            "layout": "IPY_MODEL_3aaaec4cd3dd47e99975da3a4b6ee690"
          }
        },
        "7dcb67e6b7d94284a075675a9770dc67": {
          "model_module": "@jupyter-widgets/controls",
          "model_name": "HTMLModel",
          "model_module_version": "1.5.0",
          "state": {
            "_dom_classes": [],
            "_model_module": "@jupyter-widgets/controls",
            "_model_module_version": "1.5.0",
            "_model_name": "HTMLModel",
            "_view_count": null,
            "_view_module": "@jupyter-widgets/controls",
            "_view_module_version": "1.5.0",
            "_view_name": "HTMLView",
            "description": "",
            "description_tooltip": null,
            "layout": "IPY_MODEL_d69aa2cb11794d3e8df4b03293cb6abb",
            "placeholder": "​",
            "style": "IPY_MODEL_a66c0b3af45d4b70bb2f8036080d58ac",
            "value": "special_tokens_map.json: 100%"
          }
        },
        "6615a381814d43fb8e91d72f010d68fc": {
          "model_module": "@jupyter-widgets/controls",
          "model_name": "FloatProgressModel",
          "model_module_version": "1.5.0",
          "state": {
            "_dom_classes": [],
            "_model_module": "@jupyter-widgets/controls",
            "_model_module_version": "1.5.0",
            "_model_name": "FloatProgressModel",
            "_view_count": null,
            "_view_module": "@jupyter-widgets/controls",
            "_view_module_version": "1.5.0",
            "_view_name": "ProgressView",
            "bar_style": "success",
            "description": "",
            "description_tooltip": null,
            "layout": "IPY_MODEL_558da3052f0741f1ab3c7cc4b39e8325",
            "max": 112,
            "min": 0,
            "orientation": "horizontal",
            "style": "IPY_MODEL_50d5c6e7f4b74284aad56ff86c0265a9",
            "value": 112
          }
        },
        "bf3bbc33836f4130812d1db6bc2c544a": {
          "model_module": "@jupyter-widgets/controls",
          "model_name": "HTMLModel",
          "model_module_version": "1.5.0",
          "state": {
            "_dom_classes": [],
            "_model_module": "@jupyter-widgets/controls",
            "_model_module_version": "1.5.0",
            "_model_name": "HTMLModel",
            "_view_count": null,
            "_view_module": "@jupyter-widgets/controls",
            "_view_module_version": "1.5.0",
            "_view_name": "HTMLView",
            "description": "",
            "description_tooltip": null,
            "layout": "IPY_MODEL_bced86ca1e9b44fd98c530ba367ccd07",
            "placeholder": "​",
            "style": "IPY_MODEL_33e9fdf4792e458d8abc357df7ea246f",
            "value": " 112/112 [00:00&lt;00:00, 8.36kB/s]"
          }
        },
        "3aaaec4cd3dd47e99975da3a4b6ee690": {
          "model_module": "@jupyter-widgets/base",
          "model_name": "LayoutModel",
          "model_module_version": "1.2.0",
          "state": {
            "_model_module": "@jupyter-widgets/base",
            "_model_module_version": "1.2.0",
            "_model_name": "LayoutModel",
            "_view_count": null,
            "_view_module": "@jupyter-widgets/base",
            "_view_module_version": "1.2.0",
            "_view_name": "LayoutView",
            "align_content": null,
            "align_items": null,
            "align_self": null,
            "border": null,
            "bottom": null,
            "display": null,
            "flex": null,
            "flex_flow": null,
            "grid_area": null,
            "grid_auto_columns": null,
            "grid_auto_flow": null,
            "grid_auto_rows": null,
            "grid_column": null,
            "grid_gap": null,
            "grid_row": null,
            "grid_template_areas": null,
            "grid_template_columns": null,
            "grid_template_rows": null,
            "height": null,
            "justify_content": null,
            "justify_items": null,
            "left": null,
            "margin": null,
            "max_height": null,
            "max_width": null,
            "min_height": null,
            "min_width": null,
            "object_fit": null,
            "object_position": null,
            "order": null,
            "overflow": null,
            "overflow_x": null,
            "overflow_y": null,
            "padding": null,
            "right": null,
            "top": null,
            "visibility": null,
            "width": null
          }
        },
        "d69aa2cb11794d3e8df4b03293cb6abb": {
          "model_module": "@jupyter-widgets/base",
          "model_name": "LayoutModel",
          "model_module_version": "1.2.0",
          "state": {
            "_model_module": "@jupyter-widgets/base",
            "_model_module_version": "1.2.0",
            "_model_name": "LayoutModel",
            "_view_count": null,
            "_view_module": "@jupyter-widgets/base",
            "_view_module_version": "1.2.0",
            "_view_name": "LayoutView",
            "align_content": null,
            "align_items": null,
            "align_self": null,
            "border": null,
            "bottom": null,
            "display": null,
            "flex": null,
            "flex_flow": null,
            "grid_area": null,
            "grid_auto_columns": null,
            "grid_auto_flow": null,
            "grid_auto_rows": null,
            "grid_column": null,
            "grid_gap": null,
            "grid_row": null,
            "grid_template_areas": null,
            "grid_template_columns": null,
            "grid_template_rows": null,
            "height": null,
            "justify_content": null,
            "justify_items": null,
            "left": null,
            "margin": null,
            "max_height": null,
            "max_width": null,
            "min_height": null,
            "min_width": null,
            "object_fit": null,
            "object_position": null,
            "order": null,
            "overflow": null,
            "overflow_x": null,
            "overflow_y": null,
            "padding": null,
            "right": null,
            "top": null,
            "visibility": null,
            "width": null
          }
        },
        "a66c0b3af45d4b70bb2f8036080d58ac": {
          "model_module": "@jupyter-widgets/controls",
          "model_name": "DescriptionStyleModel",
          "model_module_version": "1.5.0",
          "state": {
            "_model_module": "@jupyter-widgets/controls",
            "_model_module_version": "1.5.0",
            "_model_name": "DescriptionStyleModel",
            "_view_count": null,
            "_view_module": "@jupyter-widgets/base",
            "_view_module_version": "1.2.0",
            "_view_name": "StyleView",
            "description_width": ""
          }
        },
        "558da3052f0741f1ab3c7cc4b39e8325": {
          "model_module": "@jupyter-widgets/base",
          "model_name": "LayoutModel",
          "model_module_version": "1.2.0",
          "state": {
            "_model_module": "@jupyter-widgets/base",
            "_model_module_version": "1.2.0",
            "_model_name": "LayoutModel",
            "_view_count": null,
            "_view_module": "@jupyter-widgets/base",
            "_view_module_version": "1.2.0",
            "_view_name": "LayoutView",
            "align_content": null,
            "align_items": null,
            "align_self": null,
            "border": null,
            "bottom": null,
            "display": null,
            "flex": null,
            "flex_flow": null,
            "grid_area": null,
            "grid_auto_columns": null,
            "grid_auto_flow": null,
            "grid_auto_rows": null,
            "grid_column": null,
            "grid_gap": null,
            "grid_row": null,
            "grid_template_areas": null,
            "grid_template_columns": null,
            "grid_template_rows": null,
            "height": null,
            "justify_content": null,
            "justify_items": null,
            "left": null,
            "margin": null,
            "max_height": null,
            "max_width": null,
            "min_height": null,
            "min_width": null,
            "object_fit": null,
            "object_position": null,
            "order": null,
            "overflow": null,
            "overflow_x": null,
            "overflow_y": null,
            "padding": null,
            "right": null,
            "top": null,
            "visibility": null,
            "width": null
          }
        },
        "50d5c6e7f4b74284aad56ff86c0265a9": {
          "model_module": "@jupyter-widgets/controls",
          "model_name": "ProgressStyleModel",
          "model_module_version": "1.5.0",
          "state": {
            "_model_module": "@jupyter-widgets/controls",
            "_model_module_version": "1.5.0",
            "_model_name": "ProgressStyleModel",
            "_view_count": null,
            "_view_module": "@jupyter-widgets/base",
            "_view_module_version": "1.2.0",
            "_view_name": "StyleView",
            "bar_color": null,
            "description_width": ""
          }
        },
        "bced86ca1e9b44fd98c530ba367ccd07": {
          "model_module": "@jupyter-widgets/base",
          "model_name": "LayoutModel",
          "model_module_version": "1.2.0",
          "state": {
            "_model_module": "@jupyter-widgets/base",
            "_model_module_version": "1.2.0",
            "_model_name": "LayoutModel",
            "_view_count": null,
            "_view_module": "@jupyter-widgets/base",
            "_view_module_version": "1.2.0",
            "_view_name": "LayoutView",
            "align_content": null,
            "align_items": null,
            "align_self": null,
            "border": null,
            "bottom": null,
            "display": null,
            "flex": null,
            "flex_flow": null,
            "grid_area": null,
            "grid_auto_columns": null,
            "grid_auto_flow": null,
            "grid_auto_rows": null,
            "grid_column": null,
            "grid_gap": null,
            "grid_row": null,
            "grid_template_areas": null,
            "grid_template_columns": null,
            "grid_template_rows": null,
            "height": null,
            "justify_content": null,
            "justify_items": null,
            "left": null,
            "margin": null,
            "max_height": null,
            "max_width": null,
            "min_height": null,
            "min_width": null,
            "object_fit": null,
            "object_position": null,
            "order": null,
            "overflow": null,
            "overflow_x": null,
            "overflow_y": null,
            "padding": null,
            "right": null,
            "top": null,
            "visibility": null,
            "width": null
          }
        },
        "33e9fdf4792e458d8abc357df7ea246f": {
          "model_module": "@jupyter-widgets/controls",
          "model_name": "DescriptionStyleModel",
          "model_module_version": "1.5.0",
          "state": {
            "_model_module": "@jupyter-widgets/controls",
            "_model_module_version": "1.5.0",
            "_model_name": "DescriptionStyleModel",
            "_view_count": null,
            "_view_module": "@jupyter-widgets/base",
            "_view_module_version": "1.2.0",
            "_view_name": "StyleView",
            "description_width": ""
          }
        }
      }
    }
  },
  "cells": [
    {
      "cell_type": "code",
      "execution_count": 2,
      "metadata": {
        "id": "B-Hi87wSVIfI"
      },
      "outputs": [],
      "source": [
        "import re"
      ]
    },
    {
      "cell_type": "code",
      "source": [
        "text = (\"Contact us at support@example.com or call +91-9876543210.\"\n",
        "\"Visit our website https://www.mywebsite.org for details.\"\n",
        "\"Follow us on Twitter @TechGuru and use the hashtag #AI2025.\"\n",
        "\"Meeting scheduled on 28/07/2025. Beware of badword1 and badword2.\")"
      ],
      "metadata": {
        "id": "xHhkTZBRVTr9"
      },
      "execution_count": 3,
      "outputs": []
    },
    {
      "cell_type": "code",
      "source": [
        "import re\n",
        "\n",
        "email_pattern = r'\\b[\\w.-]+?@\\w+?\\.\\w+?\\b'\n",
        "url_pattern = r'https?://\\S+|www\\.\\S+'\n",
        "date_pattern = r'\\b(?:\\d{1,2}[-/]\\d{1,2}[-/]\\d{2,4}|\\d{4}[-/]\\d{1,2}[-/]\\d{1,2})\\b'\n",
        "phone_pattern = r'\\+?\\d{1,3}[-\\s]?\\(?\\d{2,4}\\)?[-\\s]?\\d{3}[-\\s]?\\d{4}'\n",
        "hashtag_pattern = r'#\\w+'\n",
        "mention_pattern = r'@\\w+'\n",
        "\n",
        "offensive_pattern = [word for word in[\"badword1\" , \"badword2\", \"spamword\"]]\n",
        "emails = re.findall(email_pattern, text)\n",
        "urls = re.findall(url_pattern, text)\n",
        "dates = re.findall(date_pattern, text)\n",
        "phones = re.findall(phone_pattern, text)\n",
        "hashtags = re.findall(hashtag_pattern, text)\n",
        "mentions = re.findall(mention_pattern, text)\n",
        "\n",
        "\n",
        "print(\"Emails:\", emails)\n",
        "print(\"URLs:\", urls)\n",
        "print(\"Dates:\", dates)\n",
        "print(\"Phones:\", phones)\n",
        "print(\"Hashtags:\", hashtags)\n",
        "print(\"Mentions:\", mentions)\n",
        "print(\"Offensive Words:\", offensive_pattern)"
      ],
      "metadata": {
        "colab": {
          "base_uri": "https://localhost:8080/"
        },
        "id": "iC_opKSDVjhd",
        "outputId": "5507b99a-ca78-4aa3-bd82-69fc354251de"
      },
      "execution_count": 9,
      "outputs": [
        {
          "output_type": "stream",
          "name": "stdout",
          "text": [
            "Emails: ['support@example.com']\n",
            "URLs: ['https://www.mywebsite.org']\n",
            "Dates: ['28/07/2025']\n",
            "Phones: ['+91-9876543210']\n",
            "Hashtags: ['#AI2025']\n",
            "Mentions: ['@example', '@TechGuru']\n",
            "Offensive Words: ['badword1', 'badword2']\n"
          ]
        }
      ]
    },
    {
      "cell_type": "code",
      "source": [
        "import nltk\n",
        "from nltk.util import ngrams\n",
        "nltk.download('punkt')\n",
        "text = \"The future of AI is bright and full of opportunities.\"\n",
        "tokens = nltk.word_tokenize(text)\n",
        "unigrams = list(ngrams(tokens, 1))\n",
        "bigrams = list(ngrams(tokens, 2))\n",
        "trigrams = list(ngrams(tokens, 3))\n",
        "print('Unigrams:', unigrams)\n",
        "print('Bigrams:', bigrams)\n",
        "print('Trigrams:', trigrams)"
      ],
      "metadata": {
        "colab": {
          "base_uri": "https://localhost:8080/"
        },
        "id": "rPKQnO9fWUwD",
        "outputId": "0a47ea06-2db8-4cb4-ee20-f1f75839ef5e"
      },
      "execution_count": 10,
      "outputs": [
        {
          "output_type": "stream",
          "name": "stderr",
          "text": [
            "[nltk_data] Downloading package punkt to /root/nltk_data...\n",
            "[nltk_data]   Unzipping tokenizers/punkt.zip.\n"
          ]
        },
        {
          "output_type": "stream",
          "name": "stdout",
          "text": [
            "Unigrams: [('The',), ('future',), ('of',), ('AI',), ('is',), ('bright',), ('and',), ('full',), ('of',), ('opportunities',), ('.',)]\n",
            "Bigrams: [('The', 'future'), ('future', 'of'), ('of', 'AI'), ('AI', 'is'), ('is', 'bright'), ('bright', 'and'), ('and', 'full'), ('full', 'of'), ('of', 'opportunities'), ('opportunities', '.')]\n",
            "Trigrams: [('The', 'future', 'of'), ('future', 'of', 'AI'), ('of', 'AI', 'is'), ('AI', 'is', 'bright'), ('is', 'bright', 'and'), ('bright', 'and', 'full'), ('and', 'full', 'of'), ('full', 'of', 'opportunities'), ('of', 'opportunities', '.')]\n"
          ]
        }
      ]
    },
    {
      "cell_type": "code",
      "source": [
        "import nltk\n",
        "nltk.download('edit_distance')\n",
        "from nltk.metrics import edit_distance\n",
        "word1 = \"kitten\"\n",
        "word2 = \"sitting\"\n",
        "distance = edit_distance(word1, word2)\n",
        "print(f\"Edit Distance between '{word1}' and '{word2}':\", distance)"
      ],
      "metadata": {
        "colab": {
          "base_uri": "https://localhost:8080/"
        },
        "id": "oitz_qZfVOtM",
        "outputId": "ea990377-98e3-4a62-b831-d05f9573d650"
      },
      "execution_count": 14,
      "outputs": [
        {
          "output_type": "stream",
          "name": "stdout",
          "text": [
            "Edit Distance between 'kitten' and 'sitting': 3\n"
          ]
        },
        {
          "output_type": "stream",
          "name": "stderr",
          "text": [
            "[nltk_data] Error loading edit_distance: Package 'edit_distance' not\n",
            "[nltk_data]     found in index\n"
          ]
        }
      ]
    },
    {
      "cell_type": "code",
      "source": [
        "import spacy\n",
        "\n",
        "nlp = spacy.load(\"en_core_web_sm\")\n",
        "text = \"Apple Inc. is planning to open a new office in Mumbai by 2026.\"\n",
        "doc = nlp(text)\n",
        "\n",
        "for ent in doc.ents:\n",
        "    print(ent.text, ent.label_)\n"
      ],
      "metadata": {
        "colab": {
          "base_uri": "https://localhost:8080/"
        },
        "id": "HMLGN-oHhG8W",
        "outputId": "2d2c4675-3ffc-49a5-c16b-24cb46661e52"
      },
      "execution_count": 22,
      "outputs": [
        {
          "output_type": "stream",
          "name": "stdout",
          "text": [
            "Apple Inc. ORG\n",
            "Mumbai GPE\n",
            "2026 DATE\n"
          ]
        }
      ]
    },
    {
      "cell_type": "code",
      "source": [
        "import nltk, spacy\n",
        "from nltk.corpus import stopwords\n",
        "nltk.download('stopwords')\n",
        "nltk.download('punkt')\n",
        "\n",
        "text = \"This is an example sentence, showing the effect of stopword removal.\"\n",
        "tokens = nltk.word_tokenize(text)\n",
        "\n",
        "nltk_stopwords = set(stopwords.words('english'))\n",
        "nltk_filtered = [word for word in tokens if word.lower() not in nltk_stopwords]\n",
        "\n",
        "# SpaCy Stopwords\n",
        "nlp = spacy.load(\"en_core_web_sm\")\n",
        "spacy_filtered = [token.text for token in nlp(text) if not token.is_stop]\n",
        "\n",
        "print(\"Original Word Count:\", len(tokens))\n",
        "print(\"After NLTK Stopword Removal:\", nltk_filtered)\n",
        "print(\"After SpaCy Stopword Removal:\", spacy_filtered)\n"
      ],
      "metadata": {
        "colab": {
          "base_uri": "https://localhost:8080/"
        },
        "id": "8HVdoriOjzf5",
        "outputId": "70e039ac-e4a0-41fe-e6a7-bbb62f52e742"
      },
      "execution_count": 1,
      "outputs": [
        {
          "output_type": "stream",
          "name": "stderr",
          "text": [
            "[nltk_data] Downloading package stopwords to /root/nltk_data...\n",
            "[nltk_data]   Unzipping corpora/stopwords.zip.\n",
            "[nltk_data] Downloading package punkt to /root/nltk_data...\n",
            "[nltk_data]   Package punkt is already up-to-date!\n"
          ]
        },
        {
          "output_type": "stream",
          "name": "stdout",
          "text": [
            "Original Word Count: 13\n",
            "After NLTK Stopword Removal: ['example', 'sentence', ',', 'showing', 'effect', 'stopword', 'removal', '.']\n",
            "After SpaCy Stopword Removal: ['example', 'sentence', ',', 'showing', 'effect', 'stopword', 'removal', '.']\n"
          ]
        }
      ]
    },
    {
      "cell_type": "code",
      "source": [
        "from nltk.stem import PorterStemmer, LancasterStemmer, WordNetLemmatizer\n",
        "import nltk\n",
        "nltk.download('wordnet')\n",
        "nltk.download('omw-1.4')\n",
        "\n",
        "words = [\"running\", \"flies\", \"better\", \"studies\", \"wolves\", \"cities\"]\n",
        "\n",
        "porter = PorterStemmer()\n",
        "lancaster = LancasterStemmer()\n",
        "lemmatizer = WordNetLemmatizer()\n",
        "\n",
        "print(\"Original Words:\", words)\n",
        "print(\"Porter:\", [porter.stem(w) for w in words])\n",
        "print(\"Lancaster:\", [lancaster.stem(w) for w in words])\n",
        "print(\"Lemmatizer:\", [lemmatizer.lemmatize(w) for w in words])\n"
      ],
      "metadata": {
        "colab": {
          "base_uri": "https://localhost:8080/"
        },
        "id": "MIHJ4xAYj9An",
        "outputId": "71486fd1-d548-438e-a593-395a0e127c0e"
      },
      "execution_count": 2,
      "outputs": [
        {
          "output_type": "stream",
          "name": "stderr",
          "text": [
            "[nltk_data] Downloading package wordnet to /root/nltk_data...\n",
            "[nltk_data] Downloading package omw-1.4 to /root/nltk_data...\n"
          ]
        },
        {
          "output_type": "stream",
          "name": "stdout",
          "text": [
            "Original Words: ['running', 'flies', 'better', 'studies', 'wolves', 'cities']\n",
            "Porter: ['run', 'fli', 'better', 'studi', 'wolv', 'citi']\n",
            "Lancaster: ['run', 'fli', 'bet', 'study', 'wolv', 'city']\n",
            "Lemmatizer: ['running', 'fly', 'better', 'study', 'wolf', 'city']\n"
          ]
        }
      ]
    },
    {
      "cell_type": "code",
      "source": [
        "import re\n",
        "import string\n",
        "\n",
        "text = \"RT @user123!!! The PRICE of Bitcoin hit $30,000 today!!! #Crypto 🚀🚀\"\n",
        "\n",
        "\n",
        "text_lower = text.lower()\n",
        "\n",
        "\n",
        "cleaned = re.sub(r\"@\\w+|#\\w+|http\\S+|[^a-zA-Z\\s]\", \"\", text_lower)\n",
        "\n",
        "cleaned = re.sub(r\"\\s+\", \" \", cleaned).strip()\n",
        "\n",
        "print(\"Original:\", text)\n",
        "print(\"Cleaned:\", cleaned)\n"
      ],
      "metadata": {
        "colab": {
          "base_uri": "https://localhost:8080/"
        },
        "id": "F6IsIo17kX7w",
        "outputId": "9d430906-c4cb-4bb2-cdd1-4d835b0bf3e5"
      },
      "execution_count": 3,
      "outputs": [
        {
          "output_type": "stream",
          "name": "stdout",
          "text": [
            "Original: RT @user123!!! The PRICE of Bitcoin hit $30,000 today!!! #Crypto 🚀🚀\n",
            "Cleaned: rt the price of bitcoin hit today\n"
          ]
        }
      ]
    },
    {
      "cell_type": "code",
      "source": [
        "gold = [('The', 'DT'), ('dog', 'NN'), ('chased', 'VBD'), ('the', 'DT'), ('cat', 'NN')]\n",
        "text = \"The dog chased the cat.\"\n",
        "\n",
        "\n",
        "tokens = nltk.word_tokenize(text)\n",
        "nltk_tags = nltk.pos_tag(tokens)\n",
        "\n",
        "\n",
        "doc = nlp(text)\n",
        "spacy_tags = [(token.text, token.tag_) for token in doc]\n",
        "\n",
        "\n",
        "def compute_accuracy(pred, gold):\n",
        "    correct = sum(1 for p, g in zip(pred, gold) if p[1] == g[1])\n",
        "    return correct / len(gold)\n",
        "\n",
        "print(\"NLTK Accuracy:\", compute_accuracy(nltk_tags, gold))\n",
        "print(\"SpaCy Accuracy:\", compute_accuracy(spacy_tags, gold))\n"
      ],
      "metadata": {
        "id": "7e8kolu4k2yN"
      },
      "execution_count": null,
      "outputs": []
    },
    {
      "cell_type": "code",
      "source": [
        "from nltk import RegexpTagger\n",
        "\n",
        "patterns = [\n",
        "    (r'.*ing$', 'VBG'),\n",
        "    (r'.*ed$', 'VBD'),\n",
        "    (r'.*es$', 'VBZ'),\n",
        "    (r'^Ravi$', 'NNP'),\n",
        "    (r'cricket|TV', 'NN'),\n",
        "    (r'the|and|a|daily', 'DT'),\n",
        "    (r'.*', 'NN')\n",
        "]\n",
        "\n",
        "tagger = RegexpTagger(patterns)\n",
        "sentence = ['Ravi', 'plays', 'cricket', 'and', 'watches', 'TV', 'daily']\n",
        "print(\"Rule-Based Tags:\", tagger.tag(sentence))\n",
        "Expected Output:\n",
        "Rule-Based Tags: [('Ravi', 'NNP'), ('plays', 'VBZ'), ('cricket', 'NN'),\n",
        " ('and', 'DT'), ('watches', 'VBZ'), ('TV', 'NN'), ('daily', 'DT')]\n"
      ],
      "metadata": {
        "id": "edDrhuWhlC5P"
      },
      "execution_count": null,
      "outputs": []
    },
    {
      "cell_type": "code",
      "source": [
        "from nltk.corpus import brown\n",
        "from nltk.tag import hmm\n",
        "nltk.download('brown')\n",
        "nltk.download('universal_tagset')\n",
        "\n",
        "\n",
        "train_data = brown.tagged_sents(categories='news', tagset='universal')[:500]\n",
        "\n",
        "\n",
        "trainer = hmm.HiddenMarkovModelTrainer()\n",
        "hmm_tagger = trainer.train_supervised(train_data)\n",
        "\n",
        "sentence = \"The quick brown fox jumps over the lazy dog\".split()\n",
        "print(\"HMM Tags:\", hmm_tagger.tag(sentence))\n"
      ],
      "metadata": {
        "colab": {
          "base_uri": "https://localhost:8080/"
        },
        "id": "oTpCeLkMlGmm",
        "outputId": "257e8607-70d5-4d4f-9db5-fc89fbaa046d"
      },
      "execution_count": 12,
      "outputs": [
        {
          "output_type": "stream",
          "name": "stderr",
          "text": [
            "[nltk_data] Downloading package brown to /root/nltk_data...\n",
            "[nltk_data]   Unzipping corpora/brown.zip.\n",
            "[nltk_data] Downloading package universal_tagset to /root/nltk_data...\n",
            "[nltk_data]   Unzipping taggers/universal_tagset.zip.\n"
          ]
        },
        {
          "output_type": "stream",
          "name": "stdout",
          "text": [
            "HMM Tags: [('The', 'DET'), ('quick', 'DET'), ('brown', 'DET'), ('fox', 'DET'), ('jumps', 'DET'), ('over', 'DET'), ('the', 'DET'), ('lazy', 'DET'), ('dog', 'DET')]\n"
          ]
        },
        {
          "output_type": "stream",
          "name": "stderr",
          "text": [
            "/usr/local/lib/python3.11/dist-packages/nltk/tag/hmm.py:333: RuntimeWarning: overflow encountered in cast\n",
            "  X[i, j] = self._transitions[si].logprob(self._states[j])\n",
            "/usr/local/lib/python3.11/dist-packages/nltk/tag/hmm.py:335: RuntimeWarning: overflow encountered in cast\n",
            "  O[i, k] = self._output_logprob(si, self._symbols[k])\n",
            "/usr/local/lib/python3.11/dist-packages/nltk/tag/hmm.py:331: RuntimeWarning: overflow encountered in cast\n",
            "  P[i] = self._priors.logprob(si)\n",
            "/usr/local/lib/python3.11/dist-packages/nltk/tag/hmm.py:363: RuntimeWarning: overflow encountered in cast\n",
            "  O[i, k] = self._output_logprob(si, self._symbols[k])\n"
          ]
        }
      ]
    },
    {
      "cell_type": "code",
      "source": [
        "from transformers import pipeline\n",
        "\n",
        "nlp_pipeline = pipeline(\"token-classification\", model=\"dslim/bert-base-NER\")\n",
        "\n",
        "text = \"Elon Musk founded SpaceX in 2002.\"\n",
        "output = nlp_pipeline(text)\n",
        "\n",
        "for item in output:\n",
        "    print(item)\n"
      ],
      "metadata": {
        "colab": {
          "base_uri": "https://localhost:8080/",
          "height": 495,
          "referenced_widgets": [
            "93cdd878eb774e739427d41907c6df6b",
            "05c0edb5f00a41c7b780d6e150f5c58e",
            "d1e2514f827e4fe099a02c1fdb7225cb",
            "fb8ece683ec94abba3b738332415e19f",
            "e0332ae42cec40eeb6694a2d0fe418d1",
            "3059c2fa1c0f45b1b520d4a1150530cd",
            "450bb9df7db145b4a58def373a1b94b0",
            "12fe5859c053453f92b81a2b767811a9",
            "559608bdec314ff4865267edf9a99f84",
            "dbd0b25f89d840d59404888a83d982b8",
            "760ff84e8b734591ac514cac22abe1e0",
            "930c4c7612124721ac14d40f5aa8dfad",
            "198b9b1da24f4b338b2e0a60f5fd3823",
            "b5ac7600803940adb568c180a134517a",
            "959d4404327141aeba955b17ffc50206",
            "7e7d97a6213b408d899fc63f1fc7e1b3",
            "02176a708e1242f89228411390028142",
            "393de50848c340f691546f982f613beb",
            "8982bebaa63a4fb2aeab110a4889fabc",
            "3dc3fa33acbb483ca037c1c97fd02db9",
            "95e9d3314edd47f3b5b4e74970251654",
            "0320583b21b54e8e959ca002bfda2788",
            "3aaf87568f3d464cb1b680d9a8133a8e",
            "63e963b5a51146008889aa64ef4d3472",
            "f447e037e7104bbeb23b3ae3ad47a074",
            "07c0df2f26554e70ba2728d737e90bb3",
            "a9579b94cf7346bf8279fe4d55a90e9a",
            "09d8967e019d4d66a43da81c0c0e6d57",
            "5073614ad2d4424782206ed7a9d35a15",
            "78b0ed5ba02b42bfa112a0ea98e054a5",
            "e41172223f7b45f5943f8dd850391440",
            "78c79808fc0a461eb63a16f5d4222293",
            "5eab422563dc45c3bb2ab784decd4a6c",
            "157c679838e2494aaa7423b3b31a0b9a",
            "e05e12dea4994189bb888083e60ba532",
            "d285f77fbba14152a90a525a0f46f34c",
            "7dcb67e6b7d94284a075675a9770dc67",
            "6615a381814d43fb8e91d72f010d68fc",
            "bf3bbc33836f4130812d1db6bc2c544a",
            "3aaaec4cd3dd47e99975da3a4b6ee690",
            "d69aa2cb11794d3e8df4b03293cb6abb",
            "a66c0b3af45d4b70bb2f8036080d58ac",
            "558da3052f0741f1ab3c7cc4b39e8325",
            "50d5c6e7f4b74284aad56ff86c0265a9",
            "bced86ca1e9b44fd98c530ba367ccd07",
            "33e9fdf4792e458d8abc357df7ea246f"
          ]
        },
        "id": "jU10QA-RlL_5",
        "outputId": "92f88983-15b5-431c-a7d2-a0074c5328f0"
      },
      "execution_count": 13,
      "outputs": [
        {
          "metadata": {
            "tags": null
          },
          "name": "stderr",
          "output_type": "stream",
          "text": [
            "/usr/local/lib/python3.11/dist-packages/huggingface_hub/utils/_auth.py:104: UserWarning: \n",
            "Error while fetching `HF_TOKEN` secret value from your vault: 'Requesting secret HF_TOKEN timed out. Secrets can only be fetched when running from the Colab UI.'.\n",
            "You are not authenticated with the Hugging Face Hub in this notebook.\n",
            "If the error persists, please let us know by opening an issue on GitHub (https://github.com/huggingface/huggingface_hub/issues/new).\n",
            "  warnings.warn(\n"
          ]
        },
        {
          "data": {
            "application/vnd.jupyter.widget-view+json": {
              "model_id": "93cdd878eb774e739427d41907c6df6b",
              "version_major": 2,
              "version_minor": 0
            },
            "text/plain": [
              "config.json:   0%|          | 0.00/829 [00:00<?, ?B/s]"
            ]
          },
          "metadata": {},
          "output_type": "display_data"
        },
        {
          "data": {
            "application/vnd.jupyter.widget-view+json": {
              "model_id": "05c0edb5f00a41c7b780d6e150f5c58e",
              "version_major": 2,
              "version_minor": 0
            },
            "text/plain": [
              "model.safetensors:   0%|          | 0.00/433M [00:00<?, ?B/s]"
            ]
          },
          "metadata": {},
          "output_type": "display_data"
        },
        {
          "output_type": "stream",
          "name": "stderr",
          "text": [
            "Some weights of the model checkpoint at dslim/bert-base-NER were not used when initializing BertForTokenClassification: ['bert.pooler.dense.bias', 'bert.pooler.dense.weight']\n",
            "- This IS expected if you are initializing BertForTokenClassification from the checkpoint of a model trained on another task or with another architecture (e.g. initializing a BertForSequenceClassification model from a BertForPreTraining model).\n",
            "- This IS NOT expected if you are initializing BertForTokenClassification from the checkpoint of a model that you expect to be exactly identical (initializing a BertForSequenceClassification model from a BertForSequenceClassification model).\n"
          ]
        },
        {
          "output_type": "display_data",
          "data": {
            "text/plain": [
              "tokenizer_config.json:   0%|          | 0.00/59.0 [00:00<?, ?B/s]"
            ],
            "application/vnd.jupyter.widget-view+json": {
              "version_major": 2,
              "version_minor": 0,
              "model_id": "d1e2514f827e4fe099a02c1fdb7225cb"
            }
          },
          "metadata": {}
        },
        {
          "output_type": "display_data",
          "data": {
            "text/plain": [
              "vocab.txt: 0.00B [00:00, ?B/s]"
            ],
            "application/vnd.jupyter.widget-view+json": {
              "version_major": 2,
              "version_minor": 0,
              "model_id": "b5ac7600803940adb568c180a134517a"
            }
          },
          "metadata": {}
        },
        {
          "output_type": "display_data",
          "data": {
            "text/plain": [
              "added_tokens.json:   0%|          | 0.00/2.00 [00:00<?, ?B/s]"
            ],
            "application/vnd.jupyter.widget-view+json": {
              "version_major": 2,
              "version_minor": 0,
              "model_id": "f447e037e7104bbeb23b3ae3ad47a074"
            }
          },
          "metadata": {}
        },
        {
          "output_type": "display_data",
          "data": {
            "text/plain": [
              "special_tokens_map.json:   0%|          | 0.00/112 [00:00<?, ?B/s]"
            ],
            "application/vnd.jupyter.widget-view+json": {
              "version_major": 2,
              "version_minor": 0,
              "model_id": "d285f77fbba14152a90a525a0f46f34c"
            }
          },
          "metadata": {}
        },
        {
          "output_type": "stream",
          "name": "stderr",
          "text": [
            "Device set to use cpu\n",
            "/usr/local/lib/python3.11/dist-packages/torch/nn/modules/module.py:1750: FutureWarning: `encoder_attention_mask` is deprecated and will be removed in version 4.55.0 for `BertSdpaSelfAttention.forward`.\n",
            "  return forward_call(*args, **kwargs)\n"
          ]
        },
        {
          "output_type": "stream",
          "name": "stdout",
          "text": [
            "{'entity': 'B-ORG', 'score': np.float32(0.7459889), 'index': 1, 'word': 'El', 'start': 0, 'end': 2}\n",
            "{'entity': 'I-ORG', 'score': np.float32(0.7533793), 'index': 2, 'word': '##on', 'start': 2, 'end': 4}\n",
            "{'entity': 'I-PER', 'score': np.float32(0.7262221), 'index': 3, 'word': 'Mu', 'start': 5, 'end': 7}\n",
            "{'entity': 'I-ORG', 'score': np.float32(0.6327566), 'index': 4, 'word': '##sk', 'start': 7, 'end': 9}\n",
            "{'entity': 'B-ORG', 'score': np.float32(0.9993462), 'index': 6, 'word': 'Space', 'start': 18, 'end': 23}\n",
            "{'entity': 'I-ORG', 'score': np.float32(0.99909484), 'index': 7, 'word': '##X', 'start': 23, 'end': 24}\n"
          ]
        }
      ]
    },
    {
      "cell_type": "code",
      "source": [
        "import nltk, spacy\n",
        "from nltk.corpus import stopwords\n",
        "from transformers import BertTokenizer\n",
        "\n",
        "nltk.download('punkt')\n",
        "nltk.download('stopwords')\n",
        "nlp = spacy.load(\"en_core_web_sm\")\n",
        "\n",
        "text1 = \"Artificial Intelligence is revolutionizing the world.\"\n",
        "text2 = \"This is an example sentence, showing the effect of stopword removal.\"\n",
        "\n",
        "# Tokenization\n",
        "nltk_tokens = nltk.word_tokenize(text1)\n",
        "spacy_tokens = [t.text for t in nlp(text1)]\n",
        "char_tokens = list(text1)\n",
        "tokenizer = BertTokenizer.from_pretrained(\"bert-base-uncased\")\n",
        "subword_tokens = tokenizer.tokenize(text1)\n",
        "\n",
        "# Stopword removal\n",
        "tokens2 = nltk.word_tokenize(text2)\n",
        "nltk_filtered = [w for w in tokens2 if w.lower() not in stopwords.words('english')]\n",
        "spacy_filtered = [t.text for t in nlp(text2) if not t.is_stop]\n",
        "\n",
        "print(\"NLTK Tokens:\", nltk_tokens)\n",
        "print(\"SpaCy Tokens:\", spacy_tokens)\n",
        "print(\"Char Tokens (first 15):\", char_tokens[:15])\n",
        "print(\"Subword Tokens:\", subword_tokens)\n",
        "print(\"NLTK Stopword Removal:\", nltk_filtered)\n",
        "print(\"SpaCy Stopword Removal:\", spacy_filtered)\n"
      ],
      "metadata": {
        "colab": {
          "base_uri": "https://localhost:8080/"
        },
        "id": "UCO1-N1ZlYNQ",
        "outputId": "b17daa61-c360-4659-f6ec-18b4d1cf12d7"
      },
      "execution_count": 14,
      "outputs": [
        {
          "output_type": "stream",
          "name": "stderr",
          "text": [
            "[nltk_data] Downloading package punkt to /root/nltk_data...\n",
            "[nltk_data]   Package punkt is already up-to-date!\n",
            "[nltk_data] Downloading package stopwords to /root/nltk_data...\n",
            "[nltk_data]   Package stopwords is already up-to-date!\n"
          ]
        },
        {
          "output_type": "stream",
          "name": "stdout",
          "text": [
            "NLTK Tokens: ['Artificial', 'Intelligence', 'is', 'revolutionizing', 'the', 'world', '.']\n",
            "SpaCy Tokens: ['Artificial', 'Intelligence', 'is', 'revolutionizing', 'the', 'world', '.']\n",
            "Char Tokens (first 15): ['A', 'r', 't', 'i', 'f', 'i', 'c', 'i', 'a', 'l', ' ', 'I', 'n', 't', 'e']\n",
            "Subword Tokens: ['artificial', 'intelligence', 'is', 'revolution', '##izing', 'the', 'world', '.']\n",
            "NLTK Stopword Removal: ['example', 'sentence', ',', 'showing', 'effect', 'stopword', 'removal', '.']\n",
            "SpaCy Stopword Removal: ['example', 'sentence', ',', 'showing', 'effect', 'stopword', 'removal', '.']\n"
          ]
        }
      ]
    },
    {
      "cell_type": "code",
      "source": [
        "import nltk, spacy\n",
        "nltk.download('averaged_perceptron_tagger')\n",
        "\n",
        "text1 = \"John loves eating pizza while Mary reads books in the library.\"\n",
        "text2 = \"Barack Obama was born in Hawaii.\"\n",
        "\n",
        "# POS tagging\n",
        "tokens = nltk.word_tokenize(text1)\n",
        "nltk_tags = nltk.pos_tag(tokens)\n",
        "\n",
        "nlp = spacy.load(\"en_core_web_sm\")\n",
        "doc = nlp(text1)\n",
        "spacy_tags = [(t.text, t.pos_) for t in doc]\n",
        "\n",
        "# Chunking\n",
        "tokens2 = nltk.word_tokenize(text2)\n",
        "tags2 = nltk.pos_tag(tokens2)\n",
        "grammar = \"NP: {<DT>?<JJ>*<NNP>+}\"\n",
        "chunk_parser = nltk.RegexpParser(grammar)\n",
        "tree = chunk_parser.parse(tags2)\n",
        "\n",
        "print(\"NLTK Tags:\", nltk_tags)\n",
        "print(\"SpaCy Tags:\", spacy_tags)\n",
        "print(\"Noun Phrase Chunks:\", [subtree.leaves() for subtree in tree.subtrees() if subtree.label()=='NP'])\n"
      ],
      "metadata": {
        "id": "huLU71xjlgzs"
      },
      "execution_count": null,
      "outputs": []
    }
  ]
}